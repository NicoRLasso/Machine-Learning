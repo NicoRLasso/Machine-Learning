{
  "nbformat": 4,
  "nbformat_minor": 0,
  "metadata": {
    "colab": {
      "name": "20202_python_basic.ipynb",
      "provenance": [],
      "collapsed_sections": [
        "Kg2w8ETvmP0A"
      ]
    },
    "kernelspec": {
      "name": "python3",
      "display_name": "Python 3"
    }
  },
  "cells": [
    {
      "cell_type": "code",
      "metadata": {
        "id": "lM9TKXnDWb6Q",
        "colab_type": "code",
        "colab": {}
      },
      "source": [
        "var1 = int(input(\"Ingresar el valor de la 1ra. variable\"))\n",
        "var2 = int(input(\"Ingresar el valor de la 2da. variable\"))\n",
        "var3 = int(input(\"Ingresar el valor de la 3ra. variable\"))\n",
        "if (var1>var2 and var1>var3):\n",
        "  print(f\"El numero mayor es {var1}\")\n",
        "elif (var2>var1 and var2>var3):\n",
        "  print(f\"El numero mayor es {var2}\")\n",
        "else:\n",
        "  print(f\"El numero mayor es {var3}\")"
      ],
      "execution_count": null,
      "outputs": []
    },
    {
      "cell_type": "code",
      "metadata": {
        "id": "e_2E4KxaYHgr",
        "colab_type": "code",
        "colab": {}
      },
      "source": [
        "var1, var2, var3 = input(\"ingrese tres números separados por coma: \").split(\",\")\n",
        "print(f\"El mayor es {max(int(var1), int(var2), int(var3))}\")"
      ],
      "execution_count": null,
      "outputs": []
    },
    {
      "cell_type": "code",
      "metadata": {
        "id": "-EwX2Z7_mVLR",
        "colab_type": "code",
        "colab": {}
      },
      "source": [
        "nros = []\n",
        "for i in range(int(input(\"Ingrese la cantidad N de números: \"))):\n",
        "  nros.append(int(input(f\"Ingrese el {i+1}º número: \")))\n",
        "print(f\"El mayor es: {max(nros)}. El menor es {min(nros)}. El promedio es {sum(nros)/len(nros)}\")"
      ],
      "execution_count": null,
      "outputs": []
    },
    {
      "cell_type": "code",
      "metadata": {
        "id": "keEPlKIwb51w",
        "colab_type": "code",
        "colab": {}
      },
      "source": [
        "nros = [int(input(f\"Ingreso el {i+1}º número: \")) \\\n",
        "        for i in range(int(input(\"Ingrese la cantidad N de números: \")))]\n",
        "print(f\"El mayor es {max(nros)}\\nEl menor es {min(nros)}\\nEl promedio es {sum(nros)/len(nros)}\")"
      ],
      "execution_count": null,
      "outputs": []
    },
    {
      "cell_type": "code",
      "metadata": {
        "id": "Ue1eoHByqpJ9",
        "colab_type": "code",
        "colab": {}
      },
      "source": [
        "from random import randint\n",
        "random_number, input_number = randint(1, 100), int(input(\"Ingrese un número: \"))\n",
        "while random_number != input_number:\n",
        "  print(\"Frío\") if (abs(input_number-random_number)) <= 10 else print(\"Caliente\")\n",
        "  input_number =  int(input(\"Ingrese un número: \"))\n",
        "print(f\"Acertaste!, era {random_number}\")"
      ],
      "execution_count": null,
      "outputs": []
    },
    {
      "cell_type": "code",
      "metadata": {
        "id": "lkCb8gwwNrwh",
        "colab_type": "code",
        "colab": {
          "base_uri": "https://localhost:8080/",
          "height": 51
        },
        "outputId": "d1185ed7-c7d5-458d-ee36-0d57889fb91b"
      },
      "source": [
        "from random import randint\n",
        "edad_habitantes = [randint(1, 100) for i in range(randint(1000, 75000))]\n",
        "menores, mayores = len(list((filter(lambda edad: edad<18 , edad_habitantes)))), len(list(filter(lambda edad: edad>=18, edad_habitantes)))\n",
        "print(f\"Población total: {len(edad_habitantes)}\")\n",
        "print(f\"Porcentaje de menores de edad: {menores/len(edad_habitantes)*100}. Porcentaje de mayores de edad: {mayores/len(edad_habitantes)*100}\")"
      ],
      "execution_count": null,
      "outputs": [
        {
          "output_type": "stream",
          "text": [
            "Población total: 17556\n",
            "Porcentaje de menores de edad: 16.774891774891778. Porcentaje de mayores de edad: 83.22510822510823\n"
          ],
          "name": "stdout"
        }
      ]
    },
    {
      "cell_type": "code",
      "metadata": {
        "id": "QHlqtbThY2tr",
        "colab_type": "code",
        "colab": {
          "base_uri": "https://localhost:8080/",
          "height": 34
        },
        "outputId": "9749ef6d-8082-4b16-b5e4-0c31a63a7b64"
      },
      "source": [
        "import numpy as np\n",
        "partidos = [\"socio-democrático\", \"ultra-derechista\", \"primero los ricos\", \"centro democrático\", \"cambio invertido\", \"alianza queremos mas pobres\"]\n",
        "votos_por_partido = np.random.randint(1, 25001, 6)\n",
        "print(f\"El ganador es el partido: '{partidos[np.argmax(votos_por_partido)]}' con {max(votos_por_partido)} votos\")"
      ],
      "execution_count": null,
      "outputs": [
        {
          "output_type": "stream",
          "text": [
            "El ganador es el partido: 'alianza queremos mas pobres' con 24924 votos\n"
          ],
          "name": "stdout"
        }
      ]
    },
    {
      "cell_type": "code",
      "metadata": {
        "id": "oBm4braKdAfT",
        "colab_type": "code",
        "colab": {
          "base_uri": "https://localhost:8080/",
          "height": 34
        },
        "outputId": "ff783844-b7c4-4458-fe68-953d147e6248"
      },
      "source": [
        "import numpy as np\n",
        "partidos = [\"socio-democrático\", \"ultra-derechista\", \"primero los ricos\", \"centro democrático\", \"cambio invertido\", \"alianza queremos mas pobres\"]\n",
        "votos = np.random.randint(1, 4500, (123, 6))\n",
        "votos_por_partido = votos.sum(axis=0)\n",
        "print(f\" El ganador es el partido '{partidos[np.argmax(votos_por_partido)]}' con {max(votos_por_partido)} votos\")"
      ],
      "execution_count": null,
      "outputs": [
        {
          "output_type": "stream",
          "text": [
            " El ganador es el partido 'primero los ricos' con 283600 votos\n"
          ],
          "name": "stdout"
        }
      ]
    },
    {
      "cell_type": "code",
      "metadata": {
        "id": "9DO2zYNGe2uM",
        "colab_type": "code",
        "colab": {
          "base_uri": "https://localhost:8080/",
          "height": 34
        },
        "outputId": "e03ecfce-e26a-4dbe-ad8d-e6a89beb04db"
      },
      "source": [
        "import numpy as np\n",
        "vehiculos = [\"Renault\", \"Ferrari\", \"Mercedez\", \"Ford\", \"Red bull\"]\n",
        "vueltas = np.round(np.random.uniform(8.2, 10, (5, 4)), 2)\n",
        "tiempos_x_vehiculo = vueltas.sum(axis=1)\n",
        "print(f\"El ganador es {vehiculos[np.argmin(tiempos_x_vehiculo)]} con {min(tiempos_x_vehiculo)} segundos\")"
      ],
      "execution_count": null,
      "outputs": [
        {
          "output_type": "stream",
          "text": [
            "El ganador es Ford con 36.44 segundos\n"
          ],
          "name": "stdout"
        }
      ]
    },
    {
      "cell_type": "code",
      "metadata": {
        "id": "i066FZzmg_WG",
        "colab_type": "code",
        "colab": {
          "base_uri": "https://localhost:8080/",
          "height": 279
        },
        "outputId": "1edf0599-b7a9-4a4c-a584-3fc3bc58f2d7"
      },
      "source": [
        "from matplotlib import pyplot as plt\n",
        "plt.barh(partidos, votos_por_partido)\n",
        "plt.xlabel(\"Cantidad de votos\")\n",
        "plt.ylabel(\"Partido\")\n",
        "plt.show()"
      ],
      "execution_count": null,
      "outputs": [
        {
          "output_type": "display_data",
          "data": {
            "image/png": "[encoded data removed]",
            "text/plain": [
              "<Figure size 432x288 with 1 Axes>"
            ]
          },
          "metadata": {
            "tags": [],
            "needs_background": "light"
          }
        }
      ]
    },
    {
      "cell_type": "code",
      "metadata": {
        "id": "cIBBcVC5j5DR",
        "colab_type": "code",
        "colab": {
          "base_uri": "https://localhost:8080/",
          "height": 265
        },
        "outputId": "6629381a-d8dc-4010-996a-b18de9ccf5eb"
      },
      "source": [
        "plt.scatter(vehiculos, tiempos_x_vehiculo, 100)\n",
        "plt.show()"
      ],
      "execution_count": null,
      "outputs": [
        {
          "output_type": "display_data",
          "data": {
            "image/png": "[encoded data removed]",
            "text/plain": [
              "<Figure size 432x288 with 1 Axes>"
            ]
          },
          "metadata": {
            "tags": [],
            "needs_background": "light"
          }
        }
      ]
    },
    {
      "cell_type": "code",
      "metadata": {
        "id": "khh7CKLr1aPS",
        "colab_type": "code",
        "colab": {
          "base_uri": "https://localhost:8080/",
          "height": 68
        },
        "outputId": "3e06e8e8-54b3-4ac0-8bb7-3ffce9acd472"
      },
      "source": [
        "print(*filter(lambda i: i % 2 == 0, range(int(input('Ingrese el límite inferior: ')), int(input('Ingrese el límite superior: ')) + 1)))"
      ],
      "execution_count": null,
      "outputs": [
        {
          "output_type": "stream",
          "text": [
            "Ingrese el límite inferior: 5\n",
            "Ingrese el límite superior: 21\n",
            "6 8 10 12 14 16 18 20\n"
          ],
          "name": "stdout"
        }
      ]
    }
  ]
}